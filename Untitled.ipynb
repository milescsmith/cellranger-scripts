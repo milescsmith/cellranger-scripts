{
 "cells": [
  {
   "cell_type": "code",
   "execution_count": 8,
   "id": "7fc80d2c-2b35-49a3-887d-6f242eaf0129",
   "metadata": {},
   "outputs": [],
   "source": [
    "def printthings(thing_to_print = None, other_thing = None):\n",
    "    if thing_to_print:\n",
    "        print(thing_to_print)\n",
    "    else:\n",
    "        print(\"You gave me nothing.  NOTHING!\")"
   ]
  },
  {
   "cell_type": "code",
   "execution_count": 9,
   "id": "fff5f10d-431e-4cb7-8350-22beba144aed",
   "metadata": {},
   "outputs": [],
   "source": [
    "def call_printthings(first_message = \"boo!\", **otherstuff):\n",
    "    print(first_message)\n",
    "    printthings(**otherstuff)"
   ]
  },
  {
   "cell_type": "code",
   "execution_count": 12,
   "id": "29245b12-01ea-42f3-816f-98279e5cbccc",
   "metadata": {},
   "outputs": [
    {
     "name": "stdout",
     "output_type": "stream",
     "text": [
      "hi!\n",
      "I'm Milo!\n"
     ]
    }
   ],
   "source": [
    "call_printthings(first_message = \"hi!\", thing_to_print = \"I'm Milo!\", other_thing = \"You ain't brave enough to print this shit\")"
   ]
  },
  {
   "cell_type": "code",
   "execution_count": 13,
   "id": "0733e849-a727-41c7-a690-0fbb7ad9968b",
   "metadata": {},
   "outputs": [
    {
     "name": "stdout",
     "output_type": "stream",
     "text": [
      "hi!\n",
      "You gave me nothing.  NOTHING!\n"
     ]
    }
   ],
   "source": [
    "call_printthings(first_message = \"hi!\")"
   ]
  }
 ],
 "metadata": {
  "kernelspec": {
   "display_name": "Python 3 (ipykernel)",
   "language": "python",
   "name": "python3"
  },
  "language_info": {
   "codemirror_mode": {
    "name": "ipython",
    "version": 3
   },
   "file_extension": ".py",
   "mimetype": "text/x-python",
   "name": "python",
   "nbconvert_exporter": "python",
   "pygments_lexer": "ipython3",
   "version": "3.10.0"
  }
 },
 "nbformat": 4,
 "nbformat_minor": 5
}
