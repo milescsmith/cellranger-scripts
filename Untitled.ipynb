{
 "cells": [
  {
   "cell_type": "code",
   "execution_count": 8,
   "id": "7fc80d2c-2b35-49a3-887d-6f242eaf0129",
   "metadata": {},
   "outputs": [],
   "source": [
    "def printthings(thing_to_print = None, other_thing = None):\n",
    "    if thing_to_print:\n",
    "        print(thing_to_print)\n",
    "    else:\n",
    "        print(\"You gave me nothing.  NOTHING!\")"
   ]
  },
  {
   "cell_type": "code",
   "execution_count": 9,
   "id": "fff5f10d-431e-4cb7-8350-22beba144aed",
   "metadata": {},
   "outputs": [],
   "source": [
    "def call_printthings(first_message = \"boo!\", **otherstuff):\n",
    "    print(first_message)\n",
    "    printthings(**otherstuff)"
   ]
  },
  {
   "cell_type": "code",
   "execution_count": 12,
   "id": "29245b12-01ea-42f3-816f-98279e5cbccc",
   "metadata": {},
   "outputs": [
    {
     "name": "stdout",
     "output_type": "stream",
     "text": [
      "hi!\n",
      "I'm Milo!\n"
     ]
    }
   ],
   "source": [
    "call_printthings(first_message = \"hi!\", thing_to_print = \"I'm Milo!\", other_thing = \"You ain't brave enough to print this shit\")"
   ]
  },
  {
   "cell_type": "code",
   "execution_count": 13,
   "id": "0733e849-a727-41c7-a690-0fbb7ad9968b",
   "metadata": {},
   "outputs": [
    {
     "name": "stdout",
     "output_type": "stream",
     "text": [
      "hi!\n",
      "You gave me nothing.  NOTHING!\n"
     ]
    }
   ],
   "source": [
    "call_printthings(first_message = \"hi!\")"
   ]
  },
  {
   "cell_type": "code",
   "execution_count": 16,
   "id": "b7f4fdfc-bc34-4d6b-8e0f-570b16e52fdb",
   "metadata": {},
   "outputs": [],
   "source": [
    "arg = \"--dogs chloe --pigs --cats hank\""
   ]
  },
  {
   "cell_type": "code",
   "execution_count": 17,
   "id": "e7c279de-dfc2-4657-87ac-6ca66a0a0181",
   "metadata": {},
   "outputs": [
    {
     "data": {
      "text/plain": [
       "['--dogs', 'chloe', '--pigs', '--cats', 'hank']"
      ]
     },
     "execution_count": 17,
     "metadata": {},
     "output_type": "execute_result"
    }
   ],
   "source": [
    "arg.split()"
   ]
  },
  {
   "cell_type": "code",
   "execution_count": 18,
   "id": "9f50534a-e0b0-4257-9298-f9446d0e89de",
   "metadata": {},
   "outputs": [
    {
     "data": {
      "text/plain": [
       "True"
      ]
     },
     "execution_count": 18,
     "metadata": {},
     "output_type": "execute_result"
    }
   ],
   "source": [
    "arg.split()[0].startswith(\"--\")"
   ]
  },
  {
   "cell_type": "code",
   "execution_count": 20,
   "id": "a652ed62-cc18-4136-8e5a-19bb0ba32932",
   "metadata": {},
   "outputs": [],
   "source": [
    "def parse_args(args):\n",
    "    args_dict = dict()\n",
    "    args_list = args.split()\n",
    "    for i, x in enumerate(args_list):\n",
    "        if x.startswith(\"--\"):\n",
    "            if i+1 < len(args_list):\n",
    "                if not args_list[i+1].startswith(\"--\"):\n",
    "                    args_dict[x] = args_list[i+1]\n",
    "                elif args_list[i+1].startswith(\"--\"):\n",
    "                    args_dict[x] = True\n",
    "    return args_dict"
   ]
  },
  {
   "cell_type": "code",
   "execution_count": 21,
   "id": "ff320dcd-3129-4eb6-8b43-30d8e3dbe407",
   "metadata": {},
   "outputs": [
    {
     "data": {
      "text/plain": [
       "{'--dogs': 'chloe', '--pigs': True, '--cats': 'hank'}"
      ]
     },
     "execution_count": 21,
     "metadata": {},
     "output_type": "execute_result"
    }
   ],
   "source": [
    "args_dict"
   ]
  },
  {
   "cell_type": "code",
   "execution_count": 22,
   "id": "5d478fa1-459b-4227-8938-b18078afbedb",
   "metadata": {},
   "outputs": [],
   "source": [
    "from enum import Enum"
   ]
  },
  {
   "cell_type": "code",
   "execution_count": 23,
   "id": "a5b5b4b0-959b-4be5-bb56-6c0195e1d53c",
   "metadata": {},
   "outputs": [],
   "source": [
    "class StatusMessage(str, Enum):\n",
    "    END = \"END\"\n",
    "    FAIL = \"FAIL\"\n",
    "    START = \"START\"\n",
    "    NONE = \"NONE\"\n",
    "    BEGIN = \"BEGIN\"\n",
    "    REQUEUE = \"REQUEUE\"\n",
    "    ALL = \"ALL\"\n",
    "    INVALID_DEPEND = \"INVALID_DEPEND\"\n",
    "    STAGE_OUT = \"STAGE_OUT\"\n",
    "    TIME_LIMIT = \"TIME_LIMIT\"\n",
    "    TIME_LIMIT_90 = \"TIME_LIMIT_90\"\n",
    "    TIME_LIMIT_80 = \"TIME_LIMIT_80\"\n",
    "    TIME_LIMIT_50 = \"TIME_LIMIT_50\"\n",
    "    ARRAY_TASKS = \"ARRAY_TASKS\""
   ]
  },
  {
   "cell_type": "code",
   "execution_count": 24,
   "id": "4ca34e01-a132-44b7-903e-026a139a9a3d",
   "metadata": {},
   "outputs": [
    {
     "data": {
      "text/plain": [
       "<StatusMessage.END: 'END'>"
      ]
     },
     "execution_count": 24,
     "metadata": {},
     "output_type": "execute_result"
    }
   ],
   "source": [
    "StatusMessage.END"
   ]
  },
  {
   "cell_type": "code",
   "execution_count": 25,
   "id": "b1c02e80-81ec-4ba0-89bb-d8221cf68265",
   "metadata": {},
   "outputs": [
    {
     "data": {
      "text/plain": [
       "'END'"
      ]
     },
     "execution_count": 25,
     "metadata": {},
     "output_type": "execute_result"
    }
   ],
   "source": [
    "StatusMessage.END.value"
   ]
  },
  {
   "cell_type": "code",
   "execution_count": 26,
   "id": "7181e2c2-f6fc-4017-b0da-8bb908bb084d",
   "metadata": {},
   "outputs": [],
   "source": [
    "statuses = [StatusMessage.END, StatusMessage.FAIL]"
   ]
  },
  {
   "cell_type": "code",
   "execution_count": 27,
   "id": "0a9e1455-11bc-47a6-9035-8fa8e18c9522",
   "metadata": {},
   "outputs": [
    {
     "data": {
      "text/plain": [
       "['END', 'FAIL']"
      ]
     },
     "execution_count": 27,
     "metadata": {},
     "output_type": "execute_result"
    }
   ],
   "source": [
    "[_.value for _ in statuses]"
   ]
  },
  {
   "cell_type": "code",
   "execution_count": 29,
   "id": "0052460a-f07a-4001-8947-b0dde35e8e17",
   "metadata": {},
   "outputs": [],
   "source": [
    "import pip"
   ]
  },
  {
   "cell_type": "code",
   "execution_count": 30,
   "id": "b27669cf-c947-4d30-8d25-8779b935ab5e",
   "metadata": {},
   "outputs": [
    {
     "name": "stderr",
     "output_type": "stream",
     "text": [
      "WARNING: pip is being invoked by an old script wrapper. This will fail in a future version of pip.\n",
      "Please see https://github.com/pypa/pip/issues/5599 for advice on fixing the underlying issue.\n",
      "To avoid this problem you can invoke Python with '-m pip' instead of running pip directly.\n"
     ]
    },
    {
     "data": {
      "text/html": [
       "<pre style=\"white-space:pre;overflow-x:auto;line-height:normal;font-family:Menlo,'DejaVu Sans Mono',consolas,'Courier New',monospace\">Collecting typer\n",
       "</pre>\n"
      ],
      "text/plain": [
       "Collecting typer\n"
      ]
     },
     "metadata": {},
     "output_type": "display_data"
    },
    {
     "data": {
      "text/html": [
       "<pre style=\"white-space:pre;overflow-x:auto;line-height:normal;font-family:Menlo,'DejaVu Sans Mono',consolas,'Courier New',monospace\">  Downloading typer-0.4.1-py3-none-any.whl (27 kB)\n",
       "</pre>\n"
      ],
      "text/plain": [
       "  Downloading typer-0.4.1-py3-none-any.whl (27 kB)\n"
      ]
     },
     "metadata": {},
     "output_type": "display_data"
    },
    {
     "data": {
      "text/html": [
       "<pre style=\"white-space:pre;overflow-x:auto;line-height:normal;font-family:Menlo,'DejaVu Sans Mono',consolas,'Courier New',monospace\">Collecting click&lt;9.0.0,&gt;=7.1.1\n",
       "</pre>\n"
      ],
      "text/plain": [
       "Collecting click<9.0.0,>=7.1.1\n"
      ]
     },
     "metadata": {},
     "output_type": "display_data"
    },
    {
     "data": {
      "text/html": [
       "<pre style=\"white-space:pre;overflow-x:auto;line-height:normal;font-family:Menlo,'DejaVu Sans Mono',consolas,'Courier New',monospace\">  Downloading click-8.1.3-py3-none-any.whl (96 kB)\n",
       "</pre>\n"
      ],
      "text/plain": [
       "  Downloading click-8.1.3-py3-none-any.whl (96 kB)\n"
      ]
     },
     "metadata": {},
     "output_type": "display_data"
    },
    {
     "data": {
      "text/html": [
       "<pre style=\"white-space:pre;overflow-x:auto;line-height:normal;font-family:Menlo,'DejaVu Sans Mono',consolas,'Courier New',monospace\">/home/milo/.pyenv/versions/3.10.0/envs/jupyter/lib/python3.10/site-packages/pip/_vendor/rich/\n",
       "live.py:221: UserWarning: install \"ipywidgets\" for Jupyter support\n",
       "  warnings.warn('install \"ipywidgets\" for Jupyter support')\n",
       "</pre>\n"
      ],
      "text/plain": [
       "/home/milo/.pyenv/versions/3.10.0/envs/jupyter/lib/python3.10/site-packages/pip/_vendor/rich/\n",
       "live.py:221: UserWarning: install \"ipywidgets\" for Jupyter support\n",
       "  warnings.warn('install \"ipywidgets\" for Jupyter support')\n"
      ]
     },
     "metadata": {},
     "output_type": "display_data"
    },
    {
     "data": {
      "text/html": [
       "<pre style=\"white-space:pre;overflow-x:auto;line-height:normal;font-family:Menlo,'DejaVu Sans Mono',consolas,'Courier New',monospace\"></pre>\n"
      ],
      "text/plain": []
     },
     "metadata": {},
     "output_type": "display_data"
    },
    {
     "data": {
      "text/html": [
       "<pre style=\"white-space:pre;overflow-x:auto;line-height:normal;font-family:Menlo,'DejaVu Sans Mono',consolas,'Courier New',monospace\">\n",
       "</pre>\n"
      ],
      "text/plain": [
       "\n"
      ]
     },
     "metadata": {},
     "output_type": "display_data"
    },
    {
     "data": {
      "text/html": [
       "<pre style=\"white-space:pre;overflow-x:auto;line-height:normal;font-family:Menlo,'DejaVu Sans Mono',consolas,'Courier New',monospace\">Installing collected packages: click, typer\n",
       "</pre>\n"
      ],
      "text/plain": [
       "Installing collected packages: click, typer\n"
      ]
     },
     "metadata": {},
     "output_type": "display_data"
    },
    {
     "data": {
      "text/html": [
       "<pre style=\"white-space:pre;overflow-x:auto;line-height:normal;font-family:Menlo,'DejaVu Sans Mono',consolas,'Courier New',monospace\">Successfully installed click-8.1.3 typer-0.4.1\n",
       "</pre>\n"
      ],
      "text/plain": [
       "Successfully installed click-8.1.3 typer-0.4.1\n"
      ]
     },
     "metadata": {},
     "output_type": "display_data"
    },
    {
     "data": {
      "text/plain": [
       "0"
      ]
     },
     "execution_count": 30,
     "metadata": {},
     "output_type": "execute_result"
    }
   ],
   "source": [
    "pip.main([\"install\", \"typer\"])"
   ]
  },
  {
   "cell_type": "code",
   "execution_count": 1,
   "id": "2e66a54c-cc94-4593-a74d-1a7bd23c44a2",
   "metadata": {},
   "outputs": [],
   "source": [
    "import typer"
   ]
  },
  {
   "cell_type": "code",
   "execution_count": 7,
   "id": "cc090253-66e7-4a47-b982-2a02595a83b9",
   "metadata": {},
   "outputs": [],
   "source": [
    "alfa: str = typer.Option(\"bob\")"
   ]
  },
  {
   "cell_type": "code",
   "execution_count": 8,
   "id": "c5a11916-2815-4f9e-9653-282f214080e8",
   "metadata": {},
   "outputs": [
    {
     "data": {
      "text/plain": [
       "<typer.models.OptionInfo at 0x7f94d8181900>"
      ]
     },
     "execution_count": 8,
     "metadata": {},
     "output_type": "execute_result"
    }
   ],
   "source": [
    "alfa"
   ]
  },
  {
   "cell_type": "code",
   "execution_count": 9,
   "id": "139972f2-a2d9-49dc-badf-2645be2ca8e1",
   "metadata": {},
   "outputs": [
    {
     "name": "stdout",
     "output_type": "stream",
     "text": [
      "<typer.models.OptionInfo object at 0x7f94d8181900>\n"
     ]
    }
   ],
   "source": [
    "typer.echo(alfa)"
   ]
  },
  {
   "cell_type": "code",
   "execution_count": 18,
   "id": "e70cfcc9-12b8-4f6d-8e76-0a277242369a",
   "metadata": {},
   "outputs": [
    {
     "ename": "NameError",
     "evalue": "name 'showattr' is not defined",
     "output_type": "error",
     "traceback": [
      "\u001b[0;31m---------------------------------------------------------------------------\u001b[0m",
      "\u001b[0;31mNameError\u001b[0m                                 Traceback (most recent call last)",
      "Input \u001b[0;32mIn [18]\u001b[0m, in \u001b[0;36m<cell line: 1>\u001b[0;34m()\u001b[0m\n\u001b[0;32m----> 1\u001b[0m \u001b[43mshowattr\u001b[49m(alfa)\n",
      "\u001b[0;31mNameError\u001b[0m: name 'showattr' is not defined"
     ]
    }
   ],
   "source": [
    "showattr(alfa)"
   ]
  },
  {
   "cell_type": "code",
   "execution_count": 11,
   "id": "dfe150b8-e486-4f14-9bcf-7520239eb909",
   "metadata": {},
   "outputs": [
    {
     "data": {
      "text/plain": [
       "'bob'"
      ]
     },
     "execution_count": 11,
     "metadata": {},
     "output_type": "execute_result"
    }
   ],
   "source": [
    "alfa.default"
   ]
  },
  {
   "cell_type": "code",
   "execution_count": 12,
   "id": "2e567d94-910c-4026-bc63-67e31a08ce25",
   "metadata": {},
   "outputs": [],
   "source": [
    "from typer.main import get_click_param"
   ]
  },
  {
   "cell_type": "code",
   "execution_count": 19,
   "id": "25e19792-c333-4059-878e-52cdcbe826fb",
   "metadata": {},
   "outputs": [
    {
     "data": {
      "text/plain": [
       "{'default': 'bob',\n",
       " 'param_decls': (),\n",
       " 'callback': None,\n",
       " 'metavar': None,\n",
       " 'expose_value': True,\n",
       " 'is_eager': False,\n",
       " 'envvar': None,\n",
       " 'shell_complete': None,\n",
       " 'autocompletion': None,\n",
       " 'show_default': True,\n",
       " 'show_choices': True,\n",
       " 'show_envvar': True,\n",
       " 'help': None,\n",
       " 'hidden': False,\n",
       " 'case_sensitive': True,\n",
       " 'min': None,\n",
       " 'max': None,\n",
       " 'clamp': False,\n",
       " 'formats': None,\n",
       " 'mode': None,\n",
       " 'encoding': None,\n",
       " 'errors': 'strict',\n",
       " 'lazy': None,\n",
       " 'atomic': False,\n",
       " 'exists': False,\n",
       " 'file_okay': True,\n",
       " 'dir_okay': True,\n",
       " 'writable': False,\n",
       " 'readable': True,\n",
       " 'resolve_path': False,\n",
       " 'allow_dash': False,\n",
       " 'path_type': None,\n",
       " 'prompt': False,\n",
       " 'confirmation_prompt': False,\n",
       " 'prompt_required': True,\n",
       " 'hide_input': False,\n",
       " 'is_flag': None,\n",
       " 'flag_value': None,\n",
       " 'count': False,\n",
       " 'allow_from_autoenv': True}"
      ]
     },
     "execution_count": 19,
     "metadata": {},
     "output_type": "execute_result"
    }
   ],
   "source": [
    "vars(alfa)"
   ]
  },
  {
   "cell_type": "code",
   "execution_count": 80,
   "id": "3af20a3d-2c02-45af-abff-50bc594e7aa1",
   "metadata": {},
   "outputs": [],
   "source": [
    "def something(beta: StatusMessage = typer.Option(StatusMessage.END)):\n",
    "    typer.echo(beta)"
   ]
  },
  {
   "cell_type": "code",
   "execution_count": 81,
   "id": "4771ef91-70d2-48b8-89d3-b66d1b3cd30f",
   "metadata": {},
   "outputs": [
    {
     "name": "stdout",
     "output_type": "stream",
     "text": [
      "<typer.models.OptionInfo object at 0x7f3a26b4ab60>\n"
     ]
    }
   ],
   "source": [
    "something(alfa)"
   ]
  }
 ],
 "metadata": {
  "kernelspec": {
   "display_name": "Python 3 (ipykernel)",
   "language": "python",
   "name": "python3"
  },
  "language_info": {
   "codemirror_mode": {
    "name": "ipython",
    "version": 3
   },
   "file_extension": ".py",
   "mimetype": "text/x-python",
   "name": "python",
   "nbconvert_exporter": "python",
   "pygments_lexer": "ipython3",
   "version": "3.10.0"
  }
 },
 "nbformat": 4,
 "nbformat_minor": 5
}
