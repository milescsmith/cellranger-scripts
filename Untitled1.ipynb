{
 "cells": [
  {
   "cell_type": "code",
   "execution_count": 3,
   "id": "22af5c49-aba4-40a0-985d-224bb7f2d518",
   "metadata": {},
   "outputs": [],
   "source": [
    "import pandas as pd\n",
    "import sklearn"
   ]
  },
  {
   "cell_type": "code",
   "execution_count": 4,
   "id": "5f70ee6e-34aa-42c3-affa-0e2e21337a54",
   "metadata": {},
   "outputs": [],
   "source": [
    "from rich.traceback import install\n",
    "from rich import print"
   ]
  },
  {
   "cell_type": "code",
   "execution_count": 5,
   "id": "4fb87f1d-cd1f-4022-bca1-eba28af9b958",
   "metadata": {},
   "outputs": [],
   "source": [
    "conc_df = pd.DataFrame(\n",
    "    {\n",
    "        \"rfu\": [\n",
    "            4447.86,8620.73,10529.99,11779.4,\n",
    "            12272.63,9396.53,12548.55,10198.74,\n",
    "            9058.08,6994.19,13838.82,11310.47,\n",
    "            15163.31,15778.38,11785.84,10982.46,\n",
    "            6165.14,18145.89,9498.2,18305.79,\n",
    "            15120.74,3443.18,10701.79,17025.82,\n",
    "            14439.98,18011.46,21747.35,17956.23,\n",
    "            17172.36,15718.86,19233.67,23949.16,\n",
    "            24230.56,25501.38,26316.42,26518.23,\n",
    "            25066.13,26332.5,25399.7,28217.15,27317.72,\n",
    "        ],\n",
    "        \"conc\": [\n",
    "            78.953,154.837,189.898,212.987,222.136,\n",
    "            169.053,227.263,183.796,162.846,125.156,\n",
    "            251.322,204.307,276.169,287.761,213.107,\n",
    "            198.246,110.084,332.71,170.919,335.766,\n",
    "            275.368,60.77,193.066,311.378,262.58,330.144,\n",
    "            402.145,329.09,314.162,286.638,353.545,445.258,\n",
    "            450.806,475.967,492.2,496.23,467.33,492.52,\n",
    "            473.948,530.347,512.244\n",
    "        ]\n",
    "    }\n",
    ")"
   ]
  },
  {
   "cell_type": "code",
   "execution_count": 8,
   "id": "19aa385b-2b57-4ea5-936d-2e15849c179c",
   "metadata": {},
   "outputs": [],
   "source": [
    "x = conc_df.sort_values(by=\"rfu\")[\"rfu\"].values\n",
    "y = conc_df.sort_values(by=\"rfu\")[\"conc\"].values"
   ]
  },
  {
   "cell_type": "code",
   "execution_count": 9,
   "id": "c1821516-f98b-4c0f-afb4-123f0c101209",
   "metadata": {},
   "outputs": [],
   "source": [
    "import numpy as np"
   ]
  },
  {
   "cell_type": "code",
   "execution_count": 10,
   "id": "6f27db6c-014b-4870-96e0-df5435b4a97c",
   "metadata": {},
   "outputs": [],
   "source": [
    "A = np.vstack([x, np.ones(len(x))]).T\n",
    "y = y[:, np.newaxis]"
   ]
  },
  {
   "cell_type": "code",
   "execution_count": 13,
   "id": "1cae3202-f7a7-4dc8-947e-c4ec53a3f4a3",
   "metadata": {},
   "outputs": [],
   "source": [
    "m, c = np.linalg.lstsq(np.vstack([x, np.ones(len(x))]).T,y, rcond=None)[0]"
   ]
  },
  {
   "cell_type": "code",
   "execution_count": 14,
   "id": "b4f1ef35-4451-4b00-bebb-42214ee491f4",
   "metadata": {},
   "outputs": [
    {
     "data": {
      "text/plain": [
       "array([0.01900567])"
      ]
     },
     "execution_count": 14,
     "metadata": {},
     "output_type": "execute_result"
    }
   ],
   "source": [
    "m"
   ]
  },
  {
   "cell_type": "code",
   "execution_count": 15,
   "id": "706ebfec-cedb-4e17-85f9-aa060095752e",
   "metadata": {},
   "outputs": [
    {
     "data": {
      "text/plain": [
       "array([-9.98186123])"
      ]
     },
     "execution_count": 15,
     "metadata": {},
     "output_type": "execute_result"
    }
   ],
   "source": [
    "c"
   ]
  },
  {
   "cell_type": "code",
   "execution_count": 17,
   "id": "c48106d8-3fd2-4a24-b9c5-2fb0875b401b",
   "metadata": {},
   "outputs": [],
   "source": [
    "out_of_range = pd.DataFrame(\n",
    "    {\n",
    "        \"sample\": [\"PAM26 tcr\", \"PAM27 tcr\", \"PAM28 tcr\", \"PAM29 tcr\", \"PAM30 tcr\", \"PAM31 tcr\", \"PAM32 tcr\"],\n",
    "        \"rfu\": [34027.84,28069.79,28314.06,33411.17,35827.14,37382.78,41956.64]\n",
    "    }\n",
    ")"
   ]
  },
  {
   "cell_type": "code",
   "execution_count": 20,
   "id": "23b459c2-e8f0-4bd3-83d9-f79cf7e1fd75",
   "metadata": {},
   "outputs": [],
   "source": [
    "@np.vectorize\n",
    "def solve_y(x, m, c):\n",
    "    return (x*m)+c"
   ]
  },
  {
   "cell_type": "code",
   "execution_count": 21,
   "id": "ef4c093e-c9e1-459f-9936-5f3a9cbcc7c3",
   "metadata": {},
   "outputs": [],
   "source": [
    "out_of_range['conc'] = solve_y(out_of_range['rfu'], m=m, c=c)"
   ]
  },
  {
   "cell_type": "code",
   "execution_count": 22,
   "id": "a0d4010f-75bd-402a-a29e-5df8797fa377",
   "metadata": {},
   "outputs": [
    {
     "data": {
      "text/html": [
       "<div>\n",
       "<style scoped>\n",
       "    .dataframe tbody tr th:only-of-type {\n",
       "        vertical-align: middle;\n",
       "    }\n",
       "\n",
       "    .dataframe tbody tr th {\n",
       "        vertical-align: top;\n",
       "    }\n",
       "\n",
       "    .dataframe thead th {\n",
       "        text-align: right;\n",
       "    }\n",
       "</style>\n",
       "<table border=\"1\" class=\"dataframe\">\n",
       "  <thead>\n",
       "    <tr style=\"text-align: right;\">\n",
       "      <th></th>\n",
       "      <th>sample</th>\n",
       "      <th>rfu</th>\n",
       "      <th>conc</th>\n",
       "    </tr>\n",
       "  </thead>\n",
       "  <tbody>\n",
       "    <tr>\n",
       "      <th>0</th>\n",
       "      <td>PAM26 tcr</td>\n",
       "      <td>34027.84</td>\n",
       "      <td>636.740089</td>\n",
       "    </tr>\n",
       "    <tr>\n",
       "      <th>1</th>\n",
       "      <td>PAM27 tcr</td>\n",
       "      <td>28069.79</td>\n",
       "      <td>523.503348</td>\n",
       "    </tr>\n",
       "    <tr>\n",
       "      <th>2</th>\n",
       "      <td>PAM28 tcr</td>\n",
       "      <td>28314.06</td>\n",
       "      <td>528.145863</td>\n",
       "    </tr>\n",
       "    <tr>\n",
       "      <th>3</th>\n",
       "      <td>PAM29 tcr</td>\n",
       "      <td>33411.17</td>\n",
       "      <td>625.019862</td>\n",
       "    </tr>\n",
       "    <tr>\n",
       "      <th>4</th>\n",
       "      <td>PAM30 tcr</td>\n",
       "      <td>35827.14</td>\n",
       "      <td>670.936994</td>\n",
       "    </tr>\n",
       "    <tr>\n",
       "      <th>5</th>\n",
       "      <td>PAM31 tcr</td>\n",
       "      <td>37382.78</td>\n",
       "      <td>700.502977</td>\n",
       "    </tr>\n",
       "    <tr>\n",
       "      <th>6</th>\n",
       "      <td>PAM32 tcr</td>\n",
       "      <td>41956.64</td>\n",
       "      <td>787.432258</td>\n",
       "    </tr>\n",
       "  </tbody>\n",
       "</table>\n",
       "</div>"
      ],
      "text/plain": [
       "      sample       rfu        conc\n",
       "0  PAM26 tcr  34027.84  636.740089\n",
       "1  PAM27 tcr  28069.79  523.503348\n",
       "2  PAM28 tcr  28314.06  528.145863\n",
       "3  PAM29 tcr  33411.17  625.019862\n",
       "4  PAM30 tcr  35827.14  670.936994\n",
       "5  PAM31 tcr  37382.78  700.502977\n",
       "6  PAM32 tcr  41956.64  787.432258"
      ]
     },
     "execution_count": 22,
     "metadata": {},
     "output_type": "execute_result"
    }
   ],
   "source": [
    "out_of_range"
   ]
  }
 ],
 "metadata": {
  "kernelspec": {
   "display_name": "Python 3.10 (XPython)",
   "language": "python",
   "name": "xpython"
  },
  "language_info": {
   "file_extension": ".py",
   "mimetype": "text/x-python",
   "name": "python",
   "version": "3.10.4"
  }
 },
 "nbformat": 4,
 "nbformat_minor": 5
}
